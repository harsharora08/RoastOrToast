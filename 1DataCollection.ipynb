{
 "cells": [
  {
   "cell_type": "code",
   "execution_count": 6,
   "id": "7b13ca48",
   "metadata": {},
   "outputs": [],
   "source": [
    "import praw"
   ]
  },
  {
   "cell_type": "code",
   "execution_count": 12,
   "id": "537b6c9c",
   "metadata": {},
   "outputs": [],
   "source": [
    "reddit = praw.Reddit(client_id=\"Con\",\n",
    "            client_secret=\"Fi\",\n",
    "            password=\"Den\",\n",
    "            username=\"Tial\",\n",
    "            user_agent='Mozilla 5.0')"
   ]
  },
  {
   "cell_type": "code",
   "execution_count": 11,
   "id": "795dbb6e",
   "metadata": {},
   "outputs": [],
   "source": [
    "url = \"https://www.reddit.com/r/roastme\""
   ]
  },
  {
   "cell_type": "code",
   "execution_count": 23,
   "id": "0248d8d9",
   "metadata": {},
   "outputs": [],
   "source": [
    "rm = reddit.subreddit('RoastMe')"
   ]
  },
  {
   "cell_type": "code",
   "execution_count": 40,
   "id": "f09f0a8f",
   "metadata": {},
   "outputs": [],
   "source": [
    "c = list(rm.comments())[10]"
   ]
  },
  {
   "cell_type": "code",
   "execution_count": 41,
   "id": "89882f2a",
   "metadata": {},
   "outputs": [
    {
     "data": {
      "text/plain": [
       "1"
      ]
     },
     "execution_count": 41,
     "metadata": {},
     "output_type": "execute_result"
    }
   ],
   "source": [
    "c.score"
   ]
  },
  {
   "cell_type": "code",
   "execution_count": 82,
   "id": "194c99ee",
   "metadata": {},
   "outputs": [],
   "source": [
    "UP = \"\\x1B[3A\"\n",
    "CLR = \"\\x1B[0K\""
   ]
  },
  {
   "cell_type": "code",
   "execution_count": 93,
   "id": "053611d7",
   "metadata": {},
   "outputs": [
    {
     "name": "stdout",
     "output_type": "stream",
     "text": [
      "99%                              Comment Count: 18503\r"
     ]
    }
   ],
   "source": [
    "subreddit = reddit.subreddit('roastme')\n",
    "top = subreddit.top(params={'t': 'all'}, limit=100) # For a more potentially accurate set of top comments, increase the limit (but it'll take longer)\n",
    "all_comments = []\n",
    "for i, submission in enumerate(top):\n",
    "    #don't include non comment objects such as \"morecomments\"\n",
    "    real_comments = [comment for comment in submission.comments if isinstance(comment, praw.models.Comment)]\n",
    "    all_comments += real_comments\n",
    "    \n",
    "    print('{}%{:>30}Comment Count: {}'.format(i+1, '', len(all_comments)), end='\\r')\n",
    "\n",
    "all_comments.sort(key=lambda comment: comment.score, reverse=True)"
   ]
  },
  {
   "cell_type": "code",
   "execution_count": 94,
   "id": "0519506b",
   "metadata": {},
   "outputs": [],
   "source": [
    "import pandas as pd"
   ]
  },
  {
   "cell_type": "code",
   "execution_count": 98,
   "id": "a2b46749",
   "metadata": {},
   "outputs": [],
   "source": [
    "import numpy as np"
   ]
  },
  {
   "cell_type": "code",
   "execution_count": 105,
   "id": "630c7cbf",
   "metadata": {},
   "outputs": [],
   "source": [
    "df = pd.DataFrame({'Text': [comment.body for comment in all_comments],\n",
    "              'Score': [comment.score for comment in all_comments]})"
   ]
  },
  {
   "cell_type": "code",
   "execution_count": 106,
   "id": "089ca5f1",
   "metadata": {},
   "outputs": [],
   "source": [
    "df = df.replace('[removed] [deleted]'.split(), np.nan).dropna()"
   ]
  },
  {
   "cell_type": "code",
   "execution_count": 110,
   "id": "ef15f195",
   "metadata": {},
   "outputs": [],
   "source": [
    "df['sub'] = ['RoastMe']*len(df)"
   ]
  },
  {
   "cell_type": "code",
   "execution_count": 113,
   "id": "25a80659",
   "metadata": {},
   "outputs": [],
   "source": [
    "df.to_csv('data/roasts.csv', index=None)"
   ]
  },
  {
   "cell_type": "code",
   "execution_count": 115,
   "id": "17b7795f",
   "metadata": {},
   "outputs": [
    {
     "name": "stdout",
     "output_type": "stream",
     "text": [
      "100%                              Comment Count: 27074\r"
     ]
    }
   ],
   "source": [
    "subreddit = reddit.subreddit('toastme')\n",
    "top = subreddit.top(params={'t': 'all'}, limit=100) # For a more potentially accurate set of top comments, increase the limit (but it'll take longer)\n",
    "all_comments = []\n",
    "for i, submission in enumerate(top):\n",
    "    #don't include non comment objects such as \"morecomments\"\n",
    "    real_comments = [comment for comment in submission.comments if isinstance(comment, praw.models.Comment)]\n",
    "    all_comments += real_comments\n",
    "    \n",
    "    print('{}%{:>30}Comment Count: {}'.format(i+1, '', len(all_comments)), end='\\r')\n",
    "\n",
    "all_comments.sort(key=lambda comment: comment.score, reverse=True)"
   ]
  },
  {
   "cell_type": "code",
   "execution_count": 116,
   "id": "276843ab",
   "metadata": {},
   "outputs": [],
   "source": [
    "df2 = pd.DataFrame({'Text': [comment.body for comment in all_comments],\n",
    "                    'Score': [comment.score for comment in all_comments]})"
   ]
  },
  {
   "cell_type": "code",
   "execution_count": 118,
   "id": "ee2d78fa",
   "metadata": {},
   "outputs": [],
   "source": [
    "df2 = df2.replace('[removed] [deleted]'.split(), np.nan).dropna()"
   ]
  },
  {
   "cell_type": "code",
   "execution_count": 119,
   "id": "55ee067d",
   "metadata": {},
   "outputs": [],
   "source": [
    "df2['sub'] = ['ToastMe']*len(df2)"
   ]
  },
  {
   "cell_type": "code",
   "execution_count": 120,
   "id": "62712022",
   "metadata": {},
   "outputs": [],
   "source": [
    "df2.to_csv('data/toasts.csv', index=None)"
   ]
  },
  {
   "cell_type": "code",
   "execution_count": 121,
   "id": "62bda933",
   "metadata": {},
   "outputs": [
    {
     "name": "stdout",
     "output_type": "stream",
     "text": [
      " Volume in drive D is Volume\n",
      " Volume Serial Number is DC84-4BDF\n",
      "\n",
      " Directory of D:\\python\\own\\roastme\\data\n",
      "\n",
      "Thu, 15 Dec  08:18 PM    <DIR>          .\n",
      "Thu, 15 Dec  08:17 PM    <DIR>          ..\n",
      "Thu, 15 Dec  08:10 PM         1,613,871 roasts.csv\n",
      "Thu, 15 Dec  08:18 PM         4,975,514 toasts.csv\n",
      "               2 File(s)      6,589,385 bytes\n",
      "               2 Dir(s)  90,294,161,408 bytes free\n"
     ]
    }
   ],
   "source": [
    "!dir data"
   ]
  }
 ],
 "metadata": {
  "kernelspec": {
   "display_name": "Python 3 (ipykernel)",
   "language": "python",
   "name": "python3"
  },
  "language_info": {
   "codemirror_mode": {
    "name": "ipython",
    "version": 3
   },
   "file_extension": ".py",
   "mimetype": "text/x-python",
   "name": "python",
   "nbconvert_exporter": "python",
   "pygments_lexer": "ipython3",
   "version": "3.10.8"
  },
  "varInspector": {
   "cols": {
    "lenName": 16,
    "lenType": 16,
    "lenVar": 40
   },
   "kernels_config": {
    "python": {
     "delete_cmd_postfix": "",
     "delete_cmd_prefix": "del ",
     "library": "var_list.py",
     "varRefreshCmd": "print(var_dic_list())"
    },
    "r": {
     "delete_cmd_postfix": ") ",
     "delete_cmd_prefix": "rm(",
     "library": "var_list.r",
     "varRefreshCmd": "cat(var_dic_list()) "
    }
   },
   "types_to_exclude": [
    "module",
    "function",
    "builtin_function_or_method",
    "instance",
    "_Feature"
   ],
   "window_display": false
  }
 },
 "nbformat": 4,
 "nbformat_minor": 5
}
