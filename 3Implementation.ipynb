{
 "cells": [
  {
   "cell_type": "code",
   "execution_count": 1,
   "id": "215bcaff",
   "metadata": {},
   "outputs": [],
   "source": [
    "from tensorflow import keras as kr"
   ]
  },
  {
   "cell_type": "code",
   "execution_count": 2,
   "id": "95495602",
   "metadata": {},
   "outputs": [],
   "source": [
    "mdl_loc = 'model2.h5'"
   ]
  },
  {
   "cell_type": "code",
   "execution_count": 10,
   "id": "68dde636",
   "metadata": {},
   "outputs": [],
   "source": [
    "vec_loc = 'tmp-model.tf'"
   ]
  },
  {
   "cell_type": "code",
   "execution_count": 3,
   "id": "fb46dec8",
   "metadata": {},
   "outputs": [],
   "source": [
    "model = kr.models.load_model(mdl_loc)"
   ]
  },
  {
   "cell_type": "code",
   "execution_count": 12,
   "id": "141061d5",
   "metadata": {},
   "outputs": [
    {
     "name": "stdout",
     "output_type": "stream",
     "text": [
      "WARNING:tensorflow:No training configuration found in save file, so the model was *not* compiled. Compile it manually.\n"
     ]
    }
   ],
   "source": [
    "vec = kr.models.load_model(vec_loc).layers[0]"
   ]
  },
  {
   "cell_type": "code",
   "execution_count": 41,
   "id": "0fe9335a",
   "metadata": {},
   "outputs": [],
   "source": [
    "def tell(inp):\n",
    "    hat = model.predict(np.reshape(vec(inp), (-1, 100)), verbose=0)[0, 0]\n",
    "    if hat<0.5:\n",
    "        print('The model thinks that the text you entered is a Toast and it is {}% sure about it.'.format(round((1 - 2*hat)*100, 2)))\n",
    "    else:\n",
    "        print('The model thinks that the text you entered is a Roast and it is {}% sure about it.'.format(round((hat - 0.5)*200, 2)))"
   ]
  },
  {
   "cell_type": "code",
   "execution_count": 53,
   "id": "5c6c0607",
   "metadata": {
    "scrolled": true
   },
   "outputs": [],
   "source": [
    "def fun():\n",
    "    text = input('Enter a text to see whether the model thinks it is a roast or a toast\\n\\n')\n",
    "    print('\\n\\n')\n",
    "    tell(text)"
   ]
  },
  {
   "cell_type": "code",
   "execution_count": 54,
   "id": "6f6abdcc",
   "metadata": {},
   "outputs": [
    {
     "name": "stdout",
     "output_type": "stream",
     "text": [
      "Enter a text to see whether the model thinks it is a roast or a toast\n",
      "\n",
      "fuck it\n",
      "\n",
      "\n",
      "\n",
      "The model thinks that the text you entered is a Roast and it is 10.13% sure about it.\n"
     ]
    }
   ],
   "source": [
    "fun()"
   ]
  }
 ],
 "metadata": {
  "kernelspec": {
   "display_name": "Python 3 (ipykernel)",
   "language": "python",
   "name": "python3"
  },
  "language_info": {
   "codemirror_mode": {
    "name": "ipython",
    "version": 3
   },
   "file_extension": ".py",
   "mimetype": "text/x-python",
   "name": "python",
   "nbconvert_exporter": "python",
   "pygments_lexer": "ipython3",
   "version": "3.10.8"
  },
  "varInspector": {
   "cols": {
    "lenName": 16,
    "lenType": 16,
    "lenVar": 40
   },
   "kernels_config": {
    "python": {
     "delete_cmd_postfix": "",
     "delete_cmd_prefix": "del ",
     "library": "var_list.py",
     "varRefreshCmd": "print(var_dic_list())"
    },
    "r": {
     "delete_cmd_postfix": ") ",
     "delete_cmd_prefix": "rm(",
     "library": "var_list.r",
     "varRefreshCmd": "cat(var_dic_list()) "
    }
   },
   "types_to_exclude": [
    "module",
    "function",
    "builtin_function_or_method",
    "instance",
    "_Feature"
   ],
   "window_display": false
  }
 },
 "nbformat": 4,
 "nbformat_minor": 5
}
