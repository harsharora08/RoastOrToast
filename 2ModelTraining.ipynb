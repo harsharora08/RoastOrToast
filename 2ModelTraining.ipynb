{
 "cells": [
  {
   "cell_type": "code",
   "execution_count": 2,
   "id": "93c96e62",
   "metadata": {},
   "outputs": [],
   "source": [
    "import numpy as np\n",
    "import pandas as pd"
   ]
  },
  {
   "cell_type": "code",
   "execution_count": 25,
   "id": "6b7d5342",
   "metadata": {},
   "outputs": [],
   "source": [
    "data = pd.concat([pd.read_csv('data/roasts.csv'), pd.read_csv('data/toasts.csv')])"
   ]
  },
  {
   "cell_type": "code",
   "execution_count": 26,
   "id": "3890ede1",
   "metadata": {},
   "outputs": [
    {
     "data": {
      "text/plain": [
       "ToastMe    26748\n",
       "RoastMe    18121\n",
       "Name: sub, dtype: int64"
      ]
     },
     "execution_count": 26,
     "metadata": {},
     "output_type": "execute_result"
    }
   ],
   "source": [
    "data['sub'].value_counts()"
   ]
  },
  {
   "cell_type": "code",
   "execution_count": 32,
   "id": "0dded1d4",
   "metadata": {},
   "outputs": [
    {
     "data": {
      "text/plain": [
       "1474"
      ]
     },
     "execution_count": 32,
     "metadata": {},
     "output_type": "execute_result"
    }
   ],
   "source": [
    "(data['Text'].apply(lambda x: len(x.split()))>100).sum()"
   ]
  },
  {
   "cell_type": "code",
   "execution_count": 41,
   "id": "be68522f",
   "metadata": {},
   "outputs": [],
   "source": [
    "data = data.loc[~(data['Text'].apply(lambda x: len(x.split()))>100)]"
   ]
  },
  {
   "cell_type": "code",
   "execution_count": 18,
   "id": "d93c43b5",
   "metadata": {},
   "outputs": [
    {
     "data": {
      "text/plain": [
       "44869"
      ]
     },
     "execution_count": 18,
     "metadata": {},
     "output_type": "execute_result"
    }
   ],
   "source": [
    "len(data['Text'].apply(lambda x: x.split('. ')))"
   ]
  },
  {
   "cell_type": "code",
   "execution_count": 22,
   "id": "aaeceedc",
   "metadata": {},
   "outputs": [],
   "source": [
    "data2['Text'] = data['Text'].apply(lambda x: x.split('. '))"
   ]
  },
  {
   "cell_type": "code",
   "execution_count": 24,
   "id": "41e4a02f",
   "metadata": {},
   "outputs": [
    {
     "data": {
      "text/plain": [
       "ToastMe    66744\n",
       "RoastMe    23451\n",
       "Name: sub, dtype: int64"
      ]
     },
     "execution_count": 24,
     "metadata": {},
     "output_type": "execute_result"
    }
   ],
   "source": [
    "data.explode('Text')['sub'].value_counts()"
   ]
  },
  {
   "cell_type": "code",
   "execution_count": 42,
   "id": "79d5ba45",
   "metadata": {},
   "outputs": [],
   "source": [
    "data2 = data.copy()"
   ]
  },
  {
   "cell_type": "code",
   "execution_count": 60,
   "id": "046810eb",
   "metadata": {},
   "outputs": [],
   "source": [
    "data2['Text'] = data2['Text'].apply(lambda x: x.split('. ')).apply(lambda xy: [x.split('\\n') for x in xy])"
   ]
  },
  {
   "cell_type": "code",
   "execution_count": 61,
   "id": "cb323660",
   "metadata": {},
   "outputs": [],
   "source": [
    "data2 = data2.explode('Text')"
   ]
  },
  {
   "cell_type": "code",
   "execution_count": 62,
   "id": "9de03719",
   "metadata": {},
   "outputs": [],
   "source": [
    "data2.dropna(inplace=True)"
   ]
  },
  {
   "cell_type": "code",
   "execution_count": 63,
   "id": "202f4798",
   "metadata": {},
   "outputs": [
    {
     "data": {
      "text/html": [
       "<div><div id=841917e1-6180-482e-beb5-6a97242cb60e style=\"display:none; background-color:#9D6CFF; color:white; width:200px; height:30px; padding-left:5px; border-radius:4px; flex-direction:row; justify-content:space-around; align-items:center;\" onmouseover=\"this.style.backgroundColor='#BA9BF8'\" onmouseout=\"this.style.backgroundColor='#9D6CFF'\" onclick=\"window.commands?.execute('create-mitosheet-from-dataframe-output');\">See Full Dataframe in Mito</div> <script> if (window.commands?.hasCommand('create-mitosheet-from-dataframe-output')) document.getElementById('841917e1-6180-482e-beb5-6a97242cb60e').style.display = 'flex' </script> <table border=\"1\" class=\"dataframe\">\n",
       "  <thead>\n",
       "    <tr style=\"text-align: right;\">\n",
       "      <th></th>\n",
       "      <th>Text</th>\n",
       "      <th>Score</th>\n",
       "      <th>sub</th>\n",
       "    </tr>\n",
       "  </thead>\n",
       "  <tbody>\n",
       "    <tr>\n",
       "      <th>1</th>\n",
       "      <td>[That is one of my favorite hairstyles]</td>\n",
       "      <td>2032</td>\n",
       "      <td>ToastMe</td>\n",
       "    </tr>\n",
       "    <tr>\n",
       "      <th>1</th>\n",
       "      <td>[It’s simple, sophisticated and timeless]</td>\n",
       "      <td>2032</td>\n",
       "      <td>ToastMe</td>\n",
       "    </tr>\n",
       "    <tr>\n",
       "      <th>1</th>\n",
       "      <td>[, , Your skin is flawless]</td>\n",
       "      <td>2032</td>\n",
       "      <td>ToastMe</td>\n",
       "    </tr>\n",
       "    <tr>\n",
       "      <th>1</th>\n",
       "      <td>[, , I’m sorry that you are getting bullied]</td>\n",
       "      <td>2032</td>\n",
       "      <td>ToastMe</td>\n",
       "    </tr>\n",
       "    <tr>\n",
       "      <th>1</th>\n",
       "      <td>[It DOES get better after high school.]</td>\n",
       "      <td>2032</td>\n",
       "      <td>ToastMe</td>\n",
       "    </tr>\n",
       "    <tr>\n",
       "      <th>...</th>\n",
       "      <td>...</td>\n",
       "      <td>...</td>\n",
       "      <td>...</td>\n",
       "    </tr>\n",
       "    <tr>\n",
       "      <th>26743</th>\n",
       "      <td>[You’re absolutely gorgeous]</td>\n",
       "      <td>-16</td>\n",
       "      <td>ToastMe</td>\n",
       "    </tr>\n",
       "    <tr>\n",
       "      <th>26744</th>\n",
       "      <td>[I respect you, but Covid 19 is fake]</td>\n",
       "      <td>-16</td>\n",
       "      <td>ToastMe</td>\n",
       "    </tr>\n",
       "    <tr>\n",
       "      <th>26745</th>\n",
       "      <td>[50 days of what? You look like you're in 6th grade.]</td>\n",
       "      <td>-18</td>\n",
       "      <td>ToastMe</td>\n",
       "    </tr>\n",
       "    <tr>\n",
       "      <th>26746</th>\n",
       "      <td>[Is this a r/roast me or not? Wtf?]</td>\n",
       "      <td>-20</td>\n",
       "      <td>ToastMe</td>\n",
       "    </tr>\n",
       "    <tr>\n",
       "      <th>26747</th>\n",
       "      <td>[Who says you have an illness ?]</td>\n",
       "      <td>-36</td>\n",
       "      <td>ToastMe</td>\n",
       "    </tr>\n",
       "  </tbody>\n",
       "</table></div>"
      ],
      "text/plain": [
       "                                                    Text  Score      sub\n",
       "1                [That is one of my favorite hairstyles]   2032  ToastMe\n",
       "1              [It’s simple, sophisticated and timeless]   2032  ToastMe\n",
       "1                            [, , Your skin is flawless]   2032  ToastMe\n",
       "1           [, , I’m sorry that you are getting bullied]   2032  ToastMe\n",
       "1                [It DOES get better after high school.]   2032  ToastMe\n",
       "...                                                  ...    ...      ...\n",
       "26743                       [You’re absolutely gorgeous]    -16  ToastMe\n",
       "26744              [I respect you, but Covid 19 is fake]    -16  ToastMe\n",
       "26745  [50 days of what? You look like you're in 6th ...    -18  ToastMe\n",
       "26746                [Is this a r/roast me or not? Wtf?]    -20  ToastMe\n",
       "26747                   [Who says you have an illness ?]    -36  ToastMe\n",
       "\n",
       "[54407 rows x 3 columns]"
      ]
     },
     "execution_count": 63,
     "metadata": {},
     "output_type": "execute_result"
    }
   ],
   "source": [
    "data2[data2['sub']=='ToastMe']"
   ]
  },
  {
   "cell_type": "code",
   "execution_count": 64,
   "id": "41c6caec",
   "metadata": {},
   "outputs": [],
   "source": [
    "df = pd.concat([data2[data2['sub']=='RoastMe'], data2[data2['sub']=='ToastMe'].sample(25000)])"
   ]
  },
  {
   "cell_type": "code",
   "execution_count": 65,
   "id": "7155ff75",
   "metadata": {},
   "outputs": [
    {
     "data": {
      "text/plain": [
       "ToastMe    25000\n",
       "RoastMe    22486\n",
       "Name: sub, dtype: int64"
      ]
     },
     "execution_count": 65,
     "metadata": {},
     "output_type": "execute_result"
    }
   ],
   "source": [
    "df['sub'].value_counts()"
   ]
  },
  {
   "cell_type": "code",
   "execution_count": 66,
   "id": "0d068b0c",
   "metadata": {},
   "outputs": [],
   "source": [
    "df['sub'] = (df['sub'] == 'RoastMe').astype('int')"
   ]
  },
  {
   "cell_type": "code",
   "execution_count": 83,
   "id": "493b8b77",
   "metadata": {},
   "outputs": [],
   "source": [
    "df['Text'] = df['Text'].apply(lambda x: x[0])"
   ]
  },
  {
   "cell_type": "code",
   "execution_count": 84,
   "id": "e7b7b18f",
   "metadata": {},
   "outputs": [],
   "source": [
    "X = df['Text']\n",
    "y = df['sub']"
   ]
  },
  {
   "cell_type": "code",
   "execution_count": 69,
   "id": "1beab0f4",
   "metadata": {},
   "outputs": [],
   "source": [
    "from sklearn.model_selection import train_test_split"
   ]
  },
  {
   "cell_type": "code",
   "execution_count": 94,
   "id": "a768c035",
   "metadata": {},
   "outputs": [],
   "source": [
    "X_train, X_test, y_train, y_test = train_test_split(X, y, test_size=0.3)"
   ]
  },
  {
   "cell_type": "code",
   "execution_count": 71,
   "id": "c7ba42de",
   "metadata": {},
   "outputs": [],
   "source": [
    "from tensorflow import keras as kr"
   ]
  },
  {
   "cell_type": "code",
   "execution_count": 85,
   "id": "9ff8392b",
   "metadata": {},
   "outputs": [],
   "source": [
    "tok = kr.preprocessing.text.Tokenizer()"
   ]
  },
  {
   "cell_type": "code",
   "execution_count": 95,
   "id": "df7d8816",
   "metadata": {},
   "outputs": [],
   "source": [
    "tok.fit_on_texts(X_train)"
   ]
  },
  {
   "cell_type": "code",
   "execution_count": 96,
   "id": "6eb8df80",
   "metadata": {},
   "outputs": [],
   "source": [
    "vocsize = len(tok.word_index)"
   ]
  },
  {
   "cell_type": "code",
   "execution_count": 97,
   "id": "720b99bd",
   "metadata": {},
   "outputs": [],
   "source": [
    "seqlen = X.apply(lambda x: len(x.split())).max()"
   ]
  },
  {
   "cell_type": "code",
   "execution_count": 98,
   "id": "1146fdd8",
   "metadata": {},
   "outputs": [
    {
     "data": {
      "text/plain": [
       "100"
      ]
     },
     "execution_count": 98,
     "metadata": {},
     "output_type": "execute_result"
    }
   ],
   "source": [
    "seqlen"
   ]
  },
  {
   "cell_type": "code",
   "execution_count": 99,
   "id": "c9e55520",
   "metadata": {},
   "outputs": [],
   "source": [
    "vec = kr.layers.TextVectorization(max_tokens=vocsize+1, output_sequence_length=100)"
   ]
  },
  {
   "cell_type": "code",
   "execution_count": 100,
   "id": "5d2c07d0",
   "metadata": {},
   "outputs": [],
   "source": [
    "vec.adapt(X_train)"
   ]
  },
  {
   "cell_type": "code",
   "execution_count": 103,
   "id": "e920fd4b",
   "metadata": {},
   "outputs": [],
   "source": [
    "X_train = vec(X_train)\n",
    "X_test = vec(X_test)"
   ]
  },
  {
   "cell_type": "code",
   "execution_count": 104,
   "id": "d68ba652",
   "metadata": {},
   "outputs": [],
   "source": [
    "model = kr.models.Sequential()\n",
    "\n",
    "model.add(kr.layers.Embedding(vocsize+1, seqlen, input_length=seqlen))\n",
    "model.add(kr.layers.GlobalAveragePooling1D())\n",
    "model.add(kr.layers.Dropout(0.5))\n",
    "model.add(kr.layers.Dense(seqlen*2, activation=kr.activations.relu))\n",
    "model.add(kr.layers.Dropout(0.5))\n",
    "model.add(kr.layers.Dense(seqlen*3, activation=kr.activations.relu))\n",
    "model.add(kr.layers.Dropout(0.5))\n",
    "model.add(kr.layers.Dense(1, activation=kr.activations.sigmoid))\n",
    "\n",
    "model.compile(optimizer=kr.optimizers.Adam(learning_rate=3e-4), loss=kr.losses.binary_crossentropy,\n",
    "              metrics=kr.metrics.binary_accuracy)"
   ]
  },
  {
   "cell_type": "code",
   "execution_count": 105,
   "id": "0890c758",
   "metadata": {},
   "outputs": [],
   "source": [
    "early = kr.callbacks.EarlyStopping(monitor='val_binary_accuracy', mode='max', patience=20, restore_best_weights=True)"
   ]
  },
  {
   "cell_type": "code",
   "execution_count": 106,
   "id": "990b4135",
   "metadata": {},
   "outputs": [
    {
     "name": "stdout",
     "output_type": "stream",
     "text": [
      "Model: \"sequential\"\n",
      "_________________________________________________________________\n",
      " Layer (type)                Output Shape              Param #   \n",
      "=================================================================\n",
      " embedding (Embedding)       (None, 100, 100)          5098400   \n",
      "                                                                 \n",
      " global_average_pooling1d (G  (None, 100)              0         \n",
      " lobalAveragePooling1D)                                          \n",
      "                                                                 \n",
      " dropout (Dropout)           (None, 100)               0         \n",
      "                                                                 \n",
      " dense (Dense)               (None, 200)               20200     \n",
      "                                                                 \n",
      " dropout_1 (Dropout)         (None, 200)               0         \n",
      "                                                                 \n",
      " dense_1 (Dense)             (None, 300)               60300     \n",
      "                                                                 \n",
      " dropout_2 (Dropout)         (None, 300)               0         \n",
      "                                                                 \n",
      " dense_2 (Dense)             (None, 1)                 301       \n",
      "                                                                 \n",
      "=================================================================\n",
      "Total params: 5,179,201\n",
      "Trainable params: 5,179,201\n",
      "Non-trainable params: 0\n",
      "_________________________________________________________________\n"
     ]
    }
   ],
   "source": [
    "model.summary()"
   ]
  },
  {
   "cell_type": "code",
   "execution_count": 116,
   "id": "0bc45914",
   "metadata": {
    "scrolled": true
   },
   "outputs": [
    {
     "name": "stdout",
     "output_type": "stream",
     "text": [
      "Epoch 1/200\n",
      "1039/1039 [==============================] - 12s 11ms/step - loss: 0.2427 - binary_accuracy: 0.9004 - val_loss: 0.3690 - val_binary_accuracy: 0.8381\n",
      "Epoch 2/200\n",
      "1039/1039 [==============================] - 11s 11ms/step - loss: 0.2336 - binary_accuracy: 0.9030 - val_loss: 0.3853 - val_binary_accuracy: 0.8386\n",
      "Epoch 3/200\n",
      "1039/1039 [==============================] - 12s 11ms/step - loss: 0.2270 - binary_accuracy: 0.9052 - val_loss: 0.3953 - val_binary_accuracy: 0.8378\n",
      "Epoch 4/200\n",
      "1039/1039 [==============================] - 12s 12ms/step - loss: 0.2205 - binary_accuracy: 0.9082 - val_loss: 0.3881 - val_binary_accuracy: 0.8390\n",
      "Epoch 5/200\n",
      "1039/1039 [==============================] - 12s 12ms/step - loss: 0.2137 - binary_accuracy: 0.9112 - val_loss: 0.4356 - val_binary_accuracy: 0.8286\n",
      "Epoch 6/200\n",
      "1039/1039 [==============================] - 12s 11ms/step - loss: 0.2094 - binary_accuracy: 0.9118 - val_loss: 0.3985 - val_binary_accuracy: 0.8370\n",
      "Epoch 7/200\n",
      "1039/1039 [==============================] - 12s 12ms/step - loss: 0.2069 - binary_accuracy: 0.9131 - val_loss: 0.3953 - val_binary_accuracy: 0.8365\n",
      "Epoch 8/200\n",
      "1039/1039 [==============================] - 12s 12ms/step - loss: 0.2007 - binary_accuracy: 0.9143 - val_loss: 0.4478 - val_binary_accuracy: 0.8204\n",
      "Epoch 9/200\n",
      "1039/1039 [==============================] - 12s 12ms/step - loss: 0.2008 - binary_accuracy: 0.9147 - val_loss: 0.4214 - val_binary_accuracy: 0.8331\n",
      "Epoch 10/200\n",
      "1039/1039 [==============================] - 12s 12ms/step - loss: 0.1951 - binary_accuracy: 0.9169 - val_loss: 0.4282 - val_binary_accuracy: 0.8345\n",
      "Epoch 11/200\n",
      "1039/1039 [==============================] - 12s 12ms/step - loss: 0.1888 - binary_accuracy: 0.9195 - val_loss: 0.4474 - val_binary_accuracy: 0.8329\n",
      "Epoch 12/200\n",
      "1039/1039 [==============================] - 12s 12ms/step - loss: 0.1887 - binary_accuracy: 0.9203 - val_loss: 0.4478 - val_binary_accuracy: 0.8312\n",
      "Epoch 13/200\n",
      "1039/1039 [==============================] - 12s 12ms/step - loss: 0.1842 - binary_accuracy: 0.9198 - val_loss: 0.4624 - val_binary_accuracy: 0.8303\n",
      "Epoch 14/200\n",
      "1039/1039 [==============================] - 13s 12ms/step - loss: 0.1813 - binary_accuracy: 0.9213 - val_loss: 0.5064 - val_binary_accuracy: 0.8307\n",
      "Epoch 15/200\n",
      "1039/1039 [==============================] - 13s 12ms/step - loss: 0.1773 - binary_accuracy: 0.9225 - val_loss: 0.4880 - val_binary_accuracy: 0.8245\n",
      "Epoch 16/200\n",
      "1039/1039 [==============================] - 13s 13ms/step - loss: 0.1748 - binary_accuracy: 0.9222 - val_loss: 0.5063 - val_binary_accuracy: 0.8221\n",
      "Epoch 17/200\n",
      "1039/1039 [==============================] - 13s 12ms/step - loss: 0.1734 - binary_accuracy: 0.9222 - val_loss: 0.5192 - val_binary_accuracy: 0.8277\n",
      "Epoch 18/200\n",
      "1039/1039 [==============================] - 13s 12ms/step - loss: 0.1710 - binary_accuracy: 0.9215 - val_loss: 0.5222 - val_binary_accuracy: 0.8233\n",
      "Epoch 19/200\n",
      "1039/1039 [==============================] - 13s 12ms/step - loss: 0.1684 - binary_accuracy: 0.9239 - val_loss: 0.5185 - val_binary_accuracy: 0.8251\n",
      "Epoch 20/200\n",
      "1039/1039 [==============================] - 12s 12ms/step - loss: 0.1660 - binary_accuracy: 0.9248 - val_loss: 0.5455 - val_binary_accuracy: 0.8300\n",
      "Epoch 21/200\n",
      "1039/1039 [==============================] - 12s 12ms/step - loss: 0.1640 - binary_accuracy: 0.9252 - val_loss: 0.5426 - val_binary_accuracy: 0.8278\n",
      "Epoch 22/200\n",
      "1039/1039 [==============================] - 12s 12ms/step - loss: 0.1631 - binary_accuracy: 0.9255 - val_loss: 0.5856 - val_binary_accuracy: 0.8259\n",
      "Epoch 23/200\n",
      "1039/1039 [==============================] - 12s 11ms/step - loss: 0.1613 - binary_accuracy: 0.9258 - val_loss: 0.5471 - val_binary_accuracy: 0.8241\n",
      "Epoch 24/200\n",
      "1039/1039 [==============================] - 12s 11ms/step - loss: 0.1606 - binary_accuracy: 0.9252 - val_loss: 0.5344 - val_binary_accuracy: 0.8260\n"
     ]
    }
   ],
   "source": [
    "history = model.fit(X_train, y_train, validation_data=(X_test, y_test), epochs=200, callbacks=[early])"
   ]
  },
  {
   "cell_type": "code",
   "execution_count": 117,
   "id": "66fcda21",
   "metadata": {},
   "outputs": [
    {
     "name": "stdout",
     "output_type": "stream",
     "text": [
      "446/446 [==============================] - 1s 2ms/step\n"
     ]
    }
   ],
   "source": [
    "y_hat = model.predict(X_test)"
   ]
  },
  {
   "cell_type": "code",
   "execution_count": 276,
   "id": "93ee6c03",
   "metadata": {},
   "outputs": [
    {
     "name": "stdout",
     "output_type": "stream",
     "text": [
      "Accuracy: 83.9\n"
     ]
    }
   ],
   "source": [
    "print('Accuracy: {}'.format(round((y_hat.reshape(-1).round() == y_test).mean()*100, 2)))"
   ]
  },
  {
   "cell_type": "code",
   "execution_count": 216,
   "id": "d3e33efa",
   "metadata": {},
   "outputs": [],
   "source": [
    "model.save('model2.h5', save_format='h5')"
   ]
  }
 ],
 "metadata": {
  "kernelspec": {
   "display_name": "Python 3 (ipykernel)",
   "language": "python",
   "name": "python3"
  },
  "language_info": {
   "codemirror_mode": {
    "name": "ipython",
    "version": 3
   },
   "file_extension": ".py",
   "mimetype": "text/x-python",
   "name": "python",
   "nbconvert_exporter": "python",
   "pygments_lexer": "ipython3",
   "version": "3.10.8"
  },
  "varInspector": {
   "cols": {
    "lenName": 16,
    "lenType": 16,
    "lenVar": 40
   },
   "kernels_config": {
    "python": {
     "delete_cmd_postfix": "",
     "delete_cmd_prefix": "del ",
     "library": "var_list.py",
     "varRefreshCmd": "print(var_dic_list())"
    },
    "r": {
     "delete_cmd_postfix": ") ",
     "delete_cmd_prefix": "rm(",
     "library": "var_list.r",
     "varRefreshCmd": "cat(var_dic_list()) "
    }
   },
   "types_to_exclude": [
    "module",
    "function",
    "builtin_function_or_method",
    "instance",
    "_Feature"
   ],
   "window_display": false
  }
 },
 "nbformat": 4,
 "nbformat_minor": 5
}
